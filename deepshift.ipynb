{
 "cells": [
  {
   "cell_type": "markdown",
   "metadata": {
    "colab_type": "text",
    "id": "YbMiwUjQr9Yu"
   },
   "source": [
    "# Part 1: Simple DeepShift-Q\n",
    "\n",
    "First off we'll go through my first attempt at implementing something like DeepShift-Q. Although it seems to work, it's a bit crude."
   ]
  },
  {
   "cell_type": "code",
   "execution_count": 1,
   "metadata": {
    "colab": {},
    "colab_type": "code",
    "id": "KDvVGma3r9Yv"
   },
   "outputs": [],
   "source": [
    "import torch\n",
    "import torch.nn as nn\n",
    "import torch.nn.functional as F\n",
    "import torch.optim as optim\n",
    "from torchvision import datasets, transforms\n",
    "from torch.optim.lr_scheduler import StepLR\n",
    "\n",
    "import sys\n",
    "import math\n",
    "import numpy as np\n",
    "\n",
    "use_cuda = True\n",
    "\n",
    "device = torch.device(\"cpu\" if use_cuda else \"cpu\")\n",
    "\n",
    "n_epochs=5\n",
    "lr=1.0\n",
    "gamma=0.7\n",
    "batch_size = 64\n",
    "test_batch_size = 1000\n",
    "\n",
    "kwargs = {}\n",
    "train_loader = torch.utils.data.DataLoader(\n",
    "    datasets.MNIST('../data', train=True, download=True,\n",
    "                   transform=transforms.Compose([\n",
    "                       transforms.ToTensor(),\n",
    "                       transforms.Normalize((0.1307,), (0.3081,))\n",
    "                   ])),\n",
    "    batch_size=batch_size, shuffle=True, **kwargs)\n",
    "\n",
    "test_loader = torch.utils.data.DataLoader(\n",
    "    datasets.MNIST('../data', train=False, transform=transforms.Compose([\n",
    "                       transforms.ToTensor(),\n",
    "                       transforms.Normalize((0.1307,), (0.3081,))\n",
    "                   ])),\n",
    "    batch_size=test_batch_size, shuffle=True, **kwargs)\n"
   ]
  },
  {
   "cell_type": "markdown",
   "metadata": {
    "colab_type": "text",
    "id": "HsZMvIqRr9Yy"
   },
   "source": [
    "# Baseline\n",
    "Let's establish a baseline for \"normal\" model performance. We'll train the pytorch example CNN on mnist."
   ]
  },
  {
   "cell_type": "code",
   "execution_count": 2,
   "metadata": {
    "colab": {},
    "colab_type": "code",
    "id": "gIYOwOUpr9Yz"
   },
   "outputs": [],
   "source": [
    "class BaselineNet(nn.Module):\n",
    "    def __init__(self):\n",
    "        super(BaselineNet, self).__init__()\n",
    "        self.conv1 = nn.Conv2d(1, 32, 3, 1)\n",
    "        self.conv2 = nn.Conv2d(32, 64, 3, 1)\n",
    "        self.dropout1 = nn.Dropout2d(0.25)\n",
    "        self.dropout2 = nn.Dropout2d(0.5)\n",
    "        self.fc1 = nn.Linear(9216, 128)\n",
    "        self.fc2 = nn.Linear(128, 10)\n",
    "\n",
    "    def forward(self, x):        \n",
    "        x = self.conv1(x)\n",
    "        x = F.relu(x)\n",
    "        x = self.conv2(x)\n",
    "        x = F.relu(x)\n",
    "        x = F.max_pool2d(x, 2)\n",
    "        x = self.dropout1(x)\n",
    "        x = torch.flatten(x, 1)\n",
    "        x = self.fc1(x)\n",
    "        x = F.relu(x)\n",
    "        x = self.dropout2(x)\n",
    "        x = self.fc2(x)\n",
    "        output = F.log_softmax(x, dim=1)\n",
    "        return output"
   ]
  },
  {
   "cell_type": "code",
   "execution_count": 3,
   "metadata": {
    "colab": {},
    "colab_type": "code",
    "id": "8vcyJlryr9Y1"
   },
   "outputs": [],
   "source": [
    "def train(model, device, train_loader, optimizer, epoch):\n",
    "    model.train()\n",
    "    for batch_idx, (data, target) in enumerate(train_loader):\n",
    "        data, target = data.to(device), target.to(device)\n",
    "        optimizer.zero_grad()\n",
    "        output = model(data)\n",
    "        loss = F.nll_loss(output, target)\n",
    "        loss.backward()\n",
    "        optimizer.step()\n",
    "        \n",
    "        readout = 'Train Epoch: {} [{}/{} ({:.0f}%)]\\tLoss: {:.6f}'.format(\n",
    "            epoch, batch_idx * len(data), len(train_loader.dataset),\n",
    "            100. * batch_idx / len(train_loader), loss.item())\n",
    "        sys.stdout.write(readout)\n",
    "        sys.stdout.flush()\n",
    "        sys.stdout.write('\\r')\n",
    "        \n",
    "def test(model, device, test_loader):\n",
    "    model.eval()\n",
    "    test_loss = 0\n",
    "    correct = 0\n",
    "    with torch.no_grad():\n",
    "        for data, target in test_loader:\n",
    "            data, target = data.to(device), target.to(device)\n",
    "            output = model(data)\n",
    "            test_loss += F.nll_loss(output, target, reduction='sum').item()  # sum up batch loss\n",
    "            pred = output.argmax(dim=1, keepdim=True)  # get the index of the max log-probability\n",
    "            correct += pred.eq(target.view_as(pred)).sum().item()\n",
    "\n",
    "    test_loss /= len(test_loader.dataset)\n",
    "\n",
    "    print('\\nTest set: Average loss: {:.4f}, Accuracy: {}/{} ({:.0f}%)\\n'.format(\n",
    "        test_loss, correct, len(test_loader.dataset),\n",
    "        100. * correct / len(test_loader.dataset)))"
   ]
  },
  {
   "cell_type": "code",
   "execution_count": 4,
   "metadata": {
    "colab": {
     "base_uri": "https://localhost:8080/",
     "height": 272
    },
    "colab_type": "code",
    "id": "RiOEWwfyr9Y4",
    "outputId": "510b4eda-0749-4c06-90ff-294c079ae8d5"
   },
   "outputs": [
    {
     "name": "stdout",
     "output_type": "stream",
     "text": [
      "Train Epoch: 1 [29984/60000 (100%)]\tLoss: 0.128866\n",
      "Test set: Average loss: 0.0571, Accuracy: 9809/10000 (98%)\n",
      "\n",
      "Train Epoch: 2 [29984/60000 (100%)]\tLoss: 0.042776\n",
      "Test set: Average loss: 0.0393, Accuracy: 9860/10000 (99%)\n",
      "\n",
      "Train Epoch: 3 [29984/60000 (100%)]\tLoss: 0.003029\n",
      "Test set: Average loss: 0.0320, Accuracy: 9889/10000 (99%)\n",
      "\n",
      "Train Epoch: 4 [29984/60000 (100%)]\tLoss: 0.023198\n",
      "Test set: Average loss: 0.0306, Accuracy: 9901/10000 (99%)\n",
      "\n",
      "Train Epoch: 5 [29984/60000 (100%)]\tLoss: 0.014392\n",
      "Test set: Average loss: 0.0277, Accuracy: 9903/10000 (99%)\n",
      "\n"
     ]
    }
   ],
   "source": [
    "model = BaselineNet().to(device)\n",
    "optimizer = optim.Adadelta(model.parameters(), lr=lr)\n",
    "\n",
    "scheduler = StepLR(optimizer, step_size=1, gamma=gamma)\n",
    "for epoch in range(1, 2 + 1):\n",
    "    train(model, device, train_loader, optimizer, epoch)\n",
    "    test(model, device, test_loader)\n",
    "    scheduler.step()"
   ]
  },
  {
   "cell_type": "markdown",
   "metadata": {
    "colab_type": "text",
    "id": "FDUooJlUr9Y7"
   },
   "source": [
    "# Rounding to powers of 2\n",
    "\n",
    "Now let's define some functions to go about quantizing weights to their nearest power of 2."
   ]
  },
  {
   "cell_type": "code",
   "execution_count": 5,
   "metadata": {
    "colab": {},
    "colab_type": "code",
    "id": "tAC9kLFCr9Y8"
   },
   "outputs": [],
   "source": [
    "def get_shift_and_sign(x, rounding='deterministic'):\n",
    "    # TODO: get the sign and the absolute value of x\n",
    "    sign = np.sign(x)\n",
    "    x_abs = np.abs(x)\n",
    "    \n",
    "    # TODO: now how do we get the shift parameter?\n",
    "    shift = round(np.log2(x_abs), rounding)\n",
    "    return (shift, sign)\n",
    "\n",
    "def round(x, rounding='deterministic'):\n",
    "    # we can experiment with stochastic or deterministic rounding\n",
    "    assert(rounding in ['deterministic', 'stochastic'])\n",
    "    if rounding == 'stochastic':\n",
    "        x_floor = x.floor()\n",
    "        return x_floor + torch.bernoulli(x - x_floor)\n",
    "    else:\n",
    "        return x.round()\n",
    "\n",
    "def round_power_of_2(x, rounding='deterministic'):\n",
    "    # TODO: we want this function to round x to the nearest \n",
    "    # power of 2\n",
    "    shift, sign = get_shift_and_sign(x)\n",
    "    \n",
    "    # TODO: once we have the shift and sign, how do we get the\n",
    "    # rounded version of x?\n",
    "    x_rounded = (2 ** shift) * sign\n",
    "    return x_rounded\n",
    "    \n",
    "def quantize_power_of_2(layer):\n",
    "    # we'll use this function to directly modify the weights\n",
    "    for param in layer.parameters():\n",
    "        # TODO: use our rounding function to quantize the parameters\n",
    "        param.data = round_power_of_2(param.data)"
   ]
  },
  {
   "cell_type": "code",
   "execution_count": 6,
   "metadata": {
    "colab": {},
    "colab_type": "code",
    "id": "L7o0oyZjr9Y-"
   },
   "outputs": [],
   "source": [
    "class CrudeNet(nn.Module):\n",
    "    def __init__(self):\n",
    "        super(CrudeNet, self).__init__()\n",
    "        self.conv1 = nn.Conv2d(1, 32, 3, 1)\n",
    "        self.conv2 = nn.Conv2d(32, 64, 3, 1)\n",
    "        self.dropout1 = nn.Dropout2d(0.25)\n",
    "        self.dropout2 = nn.Dropout2d(0.5)\n",
    "        self.fc1 = nn.Linear(9216, 128)\n",
    "        self.fc2 = nn.Linear(128, 10)\n",
    "        \n",
    "\n",
    "    def forward(self, x):\n",
    "        # TODO: we'll need to call our quantize function here\n",
    "        # which layers do we want to quantize?\n",
    "        quantize_power_of_2(self.conv1)\n",
    "        quantize_power_of_2(self.conv2)\n",
    "        quantize_power_of_2(self.fc1)\n",
    "        quantize_power_of_2(self.fc2)\n",
    "\n",
    "        x = self.conv1(x)\n",
    "        x = F.relu(x)\n",
    "        x = self.conv2(x)\n",
    "        x = F.relu(x)\n",
    "        x = F.max_pool2d(x, 2)\n",
    "        x = self.dropout1(x)\n",
    "        x = torch.flatten(x, 1)\n",
    "        x = self.fc1(x)\n",
    "        x = F.relu(x)\n",
    "        x = self.dropout2(x)\n",
    "        x = self.fc2(x)\n",
    "        output = F.log_softmax(x, dim=1)\n",
    "        return output\n",
    "    "
   ]
  },
  {
   "cell_type": "code",
   "execution_count": 7,
   "metadata": {
    "colab": {
     "base_uri": "https://localhost:8080/",
     "height": 272
    },
    "colab_type": "code",
    "id": "ZyAuILi_r9ZD",
    "outputId": "d0f221cc-6e14-465e-841c-a5d3b488109f"
   },
   "outputs": [
    {
     "name": "stdout",
     "output_type": "stream",
     "text": [
      "Train Epoch: 1 [29984/60000 (100%)]\tLoss: 0.181032\n",
      "Test set: Average loss: 0.1522, Accuracy: 9585/10000 (96%)\n",
      "\n",
      "Train Epoch: 2 [29984/60000 (100%)]\tLoss: 0.120429\n",
      "Test set: Average loss: 0.1393, Accuracy: 9623/10000 (96%)\n",
      "\n",
      "Train Epoch: 3 [29984/60000 (100%)]\tLoss: 0.184143\n",
      "Test set: Average loss: 0.1377, Accuracy: 9626/10000 (96%)\n",
      "\n",
      "Train Epoch: 4 [29984/60000 (100%)]\tLoss: 0.145351\n",
      "Test set: Average loss: 0.1377, Accuracy: 9629/10000 (96%)\n",
      "\n",
      "Train Epoch: 5 [5248/60000 (9%)]\tLoss: 0.172719\r"
     ]
    },
    {
     "ename": "KeyboardInterrupt",
     "evalue": "",
     "output_type": "error",
     "traceback": [
      "\u001b[0;31m---------------------------------------------------------------------------\u001b[0m",
      "\u001b[0;31mKeyboardInterrupt\u001b[0m                         Traceback (most recent call last)",
      "\u001b[0;32m<ipython-input-7-de4584fb78ff>\u001b[0m in \u001b[0;36m<module>\u001b[0;34m\u001b[0m\n\u001b[1;32m      7\u001b[0m \u001b[0mscheduler\u001b[0m \u001b[0;34m=\u001b[0m \u001b[0mStepLR\u001b[0m\u001b[0;34m(\u001b[0m\u001b[0moptimizer\u001b[0m\u001b[0;34m,\u001b[0m \u001b[0mstep_size\u001b[0m\u001b[0;34m=\u001b[0m\u001b[0;36m1\u001b[0m\u001b[0;34m,\u001b[0m \u001b[0mgamma\u001b[0m\u001b[0;34m=\u001b[0m\u001b[0mgamma\u001b[0m\u001b[0;34m)\u001b[0m\u001b[0;34m\u001b[0m\u001b[0;34m\u001b[0m\u001b[0m\n\u001b[1;32m      8\u001b[0m \u001b[0;32mfor\u001b[0m \u001b[0mepoch\u001b[0m \u001b[0;32min\u001b[0m \u001b[0mrange\u001b[0m\u001b[0;34m(\u001b[0m\u001b[0;36m1\u001b[0m\u001b[0;34m,\u001b[0m \u001b[0mn_epochs\u001b[0m \u001b[0;34m+\u001b[0m \u001b[0;36m1\u001b[0m\u001b[0;34m)\u001b[0m\u001b[0;34m:\u001b[0m\u001b[0;34m\u001b[0m\u001b[0;34m\u001b[0m\u001b[0m\n\u001b[0;32m----> 9\u001b[0;31m     \u001b[0mtrain\u001b[0m\u001b[0;34m(\u001b[0m\u001b[0mmodel\u001b[0m\u001b[0;34m,\u001b[0m \u001b[0mdevice\u001b[0m\u001b[0;34m,\u001b[0m \u001b[0mtrain_loader\u001b[0m\u001b[0;34m,\u001b[0m \u001b[0moptimizer\u001b[0m\u001b[0;34m,\u001b[0m \u001b[0mepoch\u001b[0m\u001b[0;34m)\u001b[0m\u001b[0;34m\u001b[0m\u001b[0;34m\u001b[0m\u001b[0m\n\u001b[0m\u001b[1;32m     10\u001b[0m     \u001b[0mtest\u001b[0m\u001b[0;34m(\u001b[0m\u001b[0mmodel\u001b[0m\u001b[0;34m,\u001b[0m \u001b[0mdevice\u001b[0m\u001b[0;34m,\u001b[0m \u001b[0mtest_loader\u001b[0m\u001b[0;34m)\u001b[0m\u001b[0;34m\u001b[0m\u001b[0;34m\u001b[0m\u001b[0m\n\u001b[1;32m     11\u001b[0m     \u001b[0mscheduler\u001b[0m\u001b[0;34m.\u001b[0m\u001b[0mstep\u001b[0m\u001b[0;34m(\u001b[0m\u001b[0;34m)\u001b[0m\u001b[0;34m\u001b[0m\u001b[0;34m\u001b[0m\u001b[0m\n",
      "\u001b[0;32m<ipython-input-3-27cb6a7b77b3>\u001b[0m in \u001b[0;36mtrain\u001b[0;34m(model, device, train_loader, optimizer, epoch)\u001b[0m\n\u001b[1;32m      6\u001b[0m         \u001b[0moutput\u001b[0m \u001b[0;34m=\u001b[0m \u001b[0mmodel\u001b[0m\u001b[0;34m(\u001b[0m\u001b[0mdata\u001b[0m\u001b[0;34m)\u001b[0m\u001b[0;34m\u001b[0m\u001b[0;34m\u001b[0m\u001b[0m\n\u001b[1;32m      7\u001b[0m         \u001b[0mloss\u001b[0m \u001b[0;34m=\u001b[0m \u001b[0mF\u001b[0m\u001b[0;34m.\u001b[0m\u001b[0mnll_loss\u001b[0m\u001b[0;34m(\u001b[0m\u001b[0moutput\u001b[0m\u001b[0;34m,\u001b[0m \u001b[0mtarget\u001b[0m\u001b[0;34m)\u001b[0m\u001b[0;34m\u001b[0m\u001b[0;34m\u001b[0m\u001b[0m\n\u001b[0;32m----> 8\u001b[0;31m         \u001b[0mloss\u001b[0m\u001b[0;34m.\u001b[0m\u001b[0mbackward\u001b[0m\u001b[0;34m(\u001b[0m\u001b[0;34m)\u001b[0m\u001b[0;34m\u001b[0m\u001b[0;34m\u001b[0m\u001b[0m\n\u001b[0m\u001b[1;32m      9\u001b[0m         \u001b[0moptimizer\u001b[0m\u001b[0;34m.\u001b[0m\u001b[0mstep\u001b[0m\u001b[0;34m(\u001b[0m\u001b[0;34m)\u001b[0m\u001b[0;34m\u001b[0m\u001b[0;34m\u001b[0m\u001b[0m\n\u001b[1;32m     10\u001b[0m \u001b[0;34m\u001b[0m\u001b[0m\n",
      "\u001b[0;32m~/miniconda3/lib/python3.7/site-packages/torch/tensor.py\u001b[0m in \u001b[0;36mbackward\u001b[0;34m(self, gradient, retain_graph, create_graph)\u001b[0m\n\u001b[1;32m    193\u001b[0m                 \u001b[0mproducts\u001b[0m\u001b[0;34m.\u001b[0m \u001b[0mDefaults\u001b[0m \u001b[0mto\u001b[0m\u001b[0;31m \u001b[0m\u001b[0;31m`\u001b[0m\u001b[0;31m`\u001b[0m\u001b[0;32mFalse\u001b[0m\u001b[0;31m`\u001b[0m\u001b[0;31m`\u001b[0m\u001b[0;34m.\u001b[0m\u001b[0;34m\u001b[0m\u001b[0;34m\u001b[0m\u001b[0m\n\u001b[1;32m    194\u001b[0m         \"\"\"\n\u001b[0;32m--> 195\u001b[0;31m         \u001b[0mtorch\u001b[0m\u001b[0;34m.\u001b[0m\u001b[0mautograd\u001b[0m\u001b[0;34m.\u001b[0m\u001b[0mbackward\u001b[0m\u001b[0;34m(\u001b[0m\u001b[0mself\u001b[0m\u001b[0;34m,\u001b[0m \u001b[0mgradient\u001b[0m\u001b[0;34m,\u001b[0m \u001b[0mretain_graph\u001b[0m\u001b[0;34m,\u001b[0m \u001b[0mcreate_graph\u001b[0m\u001b[0;34m)\u001b[0m\u001b[0;34m\u001b[0m\u001b[0;34m\u001b[0m\u001b[0m\n\u001b[0m\u001b[1;32m    196\u001b[0m \u001b[0;34m\u001b[0m\u001b[0m\n\u001b[1;32m    197\u001b[0m     \u001b[0;32mdef\u001b[0m \u001b[0mregister_hook\u001b[0m\u001b[0;34m(\u001b[0m\u001b[0mself\u001b[0m\u001b[0;34m,\u001b[0m \u001b[0mhook\u001b[0m\u001b[0;34m)\u001b[0m\u001b[0;34m:\u001b[0m\u001b[0;34m\u001b[0m\u001b[0;34m\u001b[0m\u001b[0m\n",
      "\u001b[0;32m~/miniconda3/lib/python3.7/site-packages/torch/autograd/__init__.py\u001b[0m in \u001b[0;36mbackward\u001b[0;34m(tensors, grad_tensors, retain_graph, create_graph, grad_variables)\u001b[0m\n\u001b[1;32m     97\u001b[0m     Variable._execution_engine.run_backward(\n\u001b[1;32m     98\u001b[0m         \u001b[0mtensors\u001b[0m\u001b[0;34m,\u001b[0m \u001b[0mgrad_tensors\u001b[0m\u001b[0;34m,\u001b[0m \u001b[0mretain_graph\u001b[0m\u001b[0;34m,\u001b[0m \u001b[0mcreate_graph\u001b[0m\u001b[0;34m,\u001b[0m\u001b[0;34m\u001b[0m\u001b[0;34m\u001b[0m\u001b[0m\n\u001b[0;32m---> 99\u001b[0;31m         allow_unreachable=True)  # allow_unreachable flag\n\u001b[0m\u001b[1;32m    100\u001b[0m \u001b[0;34m\u001b[0m\u001b[0m\n\u001b[1;32m    101\u001b[0m \u001b[0;34m\u001b[0m\u001b[0m\n",
      "\u001b[0;31mKeyboardInterrupt\u001b[0m: "
     ]
    }
   ],
   "source": [
    "model = CrudeNet().to(device)\n",
    "\n",
    "# we'll use SGD for this one, since the authors claimed\n",
    "# that SGD works the best for DeepShift-Q\n",
    "optimizer = optim.SGD(model.parameters(), lr=0.1, momentum=0.9)\n",
    "\n",
    "scheduler = StepLR(optimizer, step_size=1, gamma=gamma)\n",
    "for epoch in range(1, 2 + 1):\n",
    "    train(model, device, train_loader, optimizer, epoch)\n",
    "    test(model, device, test_loader)\n",
    "    scheduler.step()"
   ]
  },
  {
   "cell_type": "markdown",
   "metadata": {},
   "source": [
    "# Question: \n",
    "Why are we able to get away with crudely quantizing the layers like this without explicitly messing with the gradient?\n",
    "\n",
    "The only operation that isn't differentiable here is rounding and we don't take the gradient of that operation.\n"
   ]
  },
  {
   "cell_type": "markdown",
   "metadata": {
    "colab_type": "text",
    "id": "ycsWmugDr9ZG"
   },
   "source": [
    "# Part 2: Implementing DeepShift-PS\n",
    "\n",
    "It really does seem like our crude quantization works well enough, but the way it is implemented leaves a bad taste in my mouth. Now we'll implement DeepShift-PS in a fashion that is maybe a bit more satisfying. We will need to get a bit more clever to do this. Before starting, take a look at ste.py and answer the following question.\n",
    "\n",
    "# Question:\n",
    "How are the straight-through estimators implemented in ste.py? Why do these functions give us the desired behavior? (Hint: think back to when we looked at autograd) \n",
    "\n",
    "The STEs are wrapper layers that pass gradients backwards without applying any operations. This means that they preserve the gradient flow through the network, effectively setting their gradients with respect to their inputs to 1.\n"
   ]
  },
  {
   "cell_type": "code",
   "execution_count": 23,
   "metadata": {
    "colab": {},
    "colab_type": "code",
    "id": "BeKG4XcJr9ZG"
   },
   "outputs": [],
   "source": [
    "from torch.autograd import Function\n",
    "from torch.nn.modules.utils import _pair\n",
    "from torch.nn import init\n",
    "\n",
    "import utils as utils\n",
    "import ste as ste # ***if you're running in google colab, you'll need to manually import this to the runtime"
   ]
  },
  {
   "cell_type": "markdown",
   "metadata": {
    "colab_type": "text",
    "id": "NWrFwKCgr9ZI"
   },
   "source": [
    "# Implementing a bitshift linear layer\n",
    "\n",
    "We need to make a custom pytorch layer to get the desired implementation. You might want to take a look at https://pytorch.org/docs/stable/notes/extending.html"
   ]
  },
  {
   "cell_type": "code",
   "execution_count": 24,
   "metadata": {
    "colab": {},
    "colab_type": "code",
    "id": "Fi7InUzqr9ZJ"
   },
   "outputs": [],
   "source": [
    "class LinearShift(nn.Module):\n",
    "    def __init__(self, in_features, out_features, \n",
    "                 bias=True, freeze_sign=False, use_cuda=True, \n",
    "                 rounding='deterministic', weight_bits=5):\n",
    "        \n",
    "        super(LinearShift, self).__init__()\n",
    "        \n",
    "        self.in_features = in_features\n",
    "        self.out_features = out_features\n",
    "        self.use_cuda = use_cuda\n",
    "        self.rounding = rounding\n",
    "        self.shift_range = (-1 * (2**(weight_bits - 1) - 2), 0) \n",
    "        \n",
    "        # nn.Parameter is a special kind of Tensor, that will get\n",
    "        # automatically registered as Module's parameter once it's assigned\n",
    "        # as an attribute. Parameters and buffers need to be registered, or\n",
    "        # they won't appear in .parameters() (doesn't apply to buffers), and\n",
    "        # won't be converted when e.g. .cuda() is called. You can use\n",
    "        # .register_buffer() to register buffers.\n",
    "        # nn.Parameters require gradients by default.\n",
    "        \n",
    "        # here we register the shift (P) and sign (S) as parameters\n",
    "        self.shift = nn.Parameter(torch.Tensor(out_features, in_features))\n",
    "        self.sign = nn.Parameter(torch.Tensor(out_features, in_features), requires_grad = (freeze_sign == False))\n",
    "\n",
    "        if bias:\n",
    "            self.bias = nn.Parameter(torch.Tensor(out_features))\n",
    "        else:\n",
    "            # You should always register all possible parameters, but the\n",
    "            # optional ones can be None if you want.\n",
    "            self.register_parameter('bias', None)\n",
    "\n",
    "        self.reset_parameters()\n",
    "\n",
    "    def reset_parameters(self):\n",
    "        self.shift.data.uniform_(*self.shift_range) \n",
    "        self.sign.data.uniform_(-1, 1) \n",
    "        \n",
    "        if self.bias is not None:\n",
    "            fan_in, _ = init._calculate_fan_in_and_fan_out(self.shift)\n",
    "            bound = 1 / math.sqrt(fan_in)\n",
    "            init.uniform_(self.bias, -bound, bound)\n",
    "\n",
    "    def forward(self, input):\n",
    "        # force P into a predefined range\n",
    "        self.shift.data = ste.clamp(self.shift.data, *self.shift_range)\n",
    "        \n",
    "        # Hint: use the straight-through estimator functions for this part     \n",
    "        # TODO: make a temporary rounded version of P\n",
    "        shift_rounded = ste.round(self.shift, self.rounding)\n",
    "        \n",
    "        # TODO: make a temproary rounded version of S\n",
    "        sign_rounded_signed = ste.sign(ste.round(self.sign))\n",
    "        \n",
    "        # TODO: make a temporary weight matrix built from P and S\n",
    "        weight_ps = ste.unsym_grad_mul(2**shift_rounded, sign_rounded_signed)\n",
    "    \n",
    "        # with all that said and done, we can just pass W_ps to a vanilla\n",
    "        # pytorch linear layer\n",
    "\n",
    "        return torch.nn.functional.linear(input, weight_ps, self.bias)"
   ]
  },
  {
   "cell_type": "markdown",
   "metadata": {
    "colab_type": "text",
    "id": "oAe8Fe2Or9ZL"
   },
   "source": [
    "# Implementing a bitshift convolutional layer\n",
    "\n",
    "Now that we have our linear layer, we'll make a convolutional layer. This will be similar to what we just did."
   ]
  },
  {
   "cell_type": "code",
   "execution_count": 25,
   "metadata": {
    "colab": {},
    "colab_type": "code",
    "id": "9Ecxwmq7r9ZM"
   },
   "outputs": [],
   "source": [
    "class Conv2dShift(nn.Module):\n",
    "    def __init__(self, in_channels, out_channels, kernel_size,\n",
    "                 stride=1, padding=0, dilation=1,# output_padding,\n",
    "                 groups=1, bias=True, padding_mode='zeros', \n",
    "                 rounding='deterministic', weight_bits=5):\n",
    "        \n",
    "        super(Conv2dShift, self).__init__()\n",
    "        \n",
    "        if in_channels % groups != 0:\n",
    "            raise ValueError('in_channels must be divisible by groups')\n",
    "        if out_channels % groups != 0:\n",
    "            raise ValueError('out_channels must be divisible by groups')\n",
    "        \n",
    "        kernel_size = _pair(kernel_size)\n",
    "        stride = _pair(stride)\n",
    "        padding = _pair(padding)\n",
    "        dilation = _pair(dilation)\n",
    "        \n",
    "        self.in_channels = in_channels\n",
    "        self.out_channels = out_channels\n",
    "        self.kernel_size = kernel_size\n",
    "        self.stride = stride\n",
    "        self.padding = padding\n",
    "        self.dilation = dilation\n",
    "        self.groups = groups\n",
    "        self.padding_mode = padding_mode\n",
    "        self.rounding=rounding\n",
    "        self.shift_range = (-1 * (2**(weight_bits - 1) - 2), 0)\n",
    "\n",
    "        self.shift = nn.Parameter(torch.Tensor(\n",
    "            out_channels, in_channels // groups, *kernel_size))\n",
    "        self.sign = nn.Parameter(torch.Tensor(\n",
    "            out_channels, in_channels // groups, *kernel_size),\n",
    "            requires_grad = True)\n",
    "        \n",
    "        if bias:\n",
    "            self.bias = nn.Parameter(torch.Tensor(out_channels))\n",
    "        else:\n",
    "            self.register_parameter('bias', None)\n",
    "        \n",
    "        self.reset_parameters()\n",
    "\n",
    "    def reset_parameters(self):\n",
    "        self.shift.data.uniform_(-10, -1) # (-0.1, 0.1)\n",
    "        self.sign.data.uniform_(-1, 1) # (-0.1, 0.1)\n",
    "        \n",
    "        if self.bias is not None:\n",
    "            fan_in, _ = init._calculate_fan_in_and_fan_out(self.shift)\n",
    "            bound = 1 / math.sqrt(fan_in)\n",
    "            init.uniform_(self.bias, -bound, bound)\n",
    "\n",
    "    def forward(self, input):\n",
    "        # force P into a predefined range\n",
    "        self.shift.data = ste.clamp(self.shift.data, *self.shift_range)\n",
    "        \n",
    "        ## Hint: use the straight-through estimator functions for this part     \n",
    "        # TODO: make a temporary rounded version of P\n",
    "        shift_rounded = ste.round(self.shift)\n",
    "        \n",
    "        # TODO: make a temproary rounded version of S\n",
    "        sign_rounded_signed = ste.sign(ste.round(self.sign))\n",
    "        \n",
    "        # TODO: make a temporary weight matrix built from P and S\n",
    "        weight_ps = ste.unsym_grad_mul(2**shift_rounded, sign_rounded_signed)\n",
    "        \n",
    "        if self.padding_mode == 'circular':\n",
    "            expanded_padding = ((self.padding[1] + 1) // 2, self.padding[1] // 2,\n",
    "                                (self.padding[0] + 1) // 2, self.padding[0] // 2)\n",
    "\n",
    "            input_padded = F.pad(input, expanded_padding, mode='circular')\n",
    "            padding =  _pair(0)\n",
    "        else:\n",
    "            input_padded = input\n",
    "            padding = self.padding\n",
    "            \n",
    "        return torch.nn.functional.conv2d(input_padded, weight_ps, self.bias, \n",
    "                                          self.stride, padding, self.dilation, self.groups)"
   ]
  },
  {
   "cell_type": "code",
   "execution_count": 26,
   "metadata": {
    "colab": {},
    "colab_type": "code",
    "id": "zhCzP2gor9ZO"
   },
   "outputs": [],
   "source": [
    "class Net(nn.Module):\n",
    "    def __init__(self):\n",
    "        super(Net, self).__init__()\n",
    "        self.conv1 = Conv2dShift(1, 32, 3, 1)\n",
    "        self.conv2 = Conv2dShift(32, 64, 3, 1)\n",
    "        self.dropout1 = nn.Dropout2d(0.25)\n",
    "        self.dropout2 = nn.Dropout2d(0.5)\n",
    "        self.fc1 = LinearShift(9216, 128)\n",
    "        self.fc2 = LinearShift(128, 10)\n",
    "\n",
    "    def forward(self, x):\n",
    "        x = self.conv1(x)\n",
    "        x = F.relu(x)\n",
    "        x = self.conv2(x)\n",
    "        x = F.relu(x)\n",
    "        x = F.max_pool2d(x, 2)\n",
    "        x = self.dropout1(x)\n",
    "        x = torch.flatten(x, 1)\n",
    "        x = self.fc1(x)\n",
    "        x = F.relu(x)\n",
    "        x = self.dropout2(x)\n",
    "        x = self.fc2(x)\n",
    "        \n",
    "        output = F.log_softmax(x, dim=1)\n",
    "        return output"
   ]
  },
  {
   "cell_type": "code",
   "execution_count": 28,
   "metadata": {
    "colab": {
     "base_uri": "https://localhost:8080/",
     "height": 579
    },
    "colab_type": "code",
    "id": "Lb-YOclGr9ZT",
    "outputId": "1113aaf0-7d47-4ff6-fa0d-e6cb3de2827c"
   },
   "outputs": [
    {
     "name": "stdout",
     "output_type": "stream",
     "text": [
      "Train Epoch: 1 [29984/60000 (100%)]\tLoss: 0.900949\n",
      "Test set: Average loss: 0.5475, Accuracy: 8623/10000 (86%)\n",
      "\n",
      "Train Epoch: 2 [29984/60000 (100%)]\tLoss: 1.030364\n",
      "Test set: Average loss: 0.4169, Accuracy: 9029/10000 (90%)\n",
      "\n",
      "Train Epoch: 3 [29984/60000 (100%)]\tLoss: 0.463277\n",
      "Test set: Average loss: 0.2892, Accuracy: 9203/10000 (92%)\n",
      "\n",
      "Train Epoch: 4 [29984/60000 (100%)]\tLoss: 0.588159\n",
      "Test set: Average loss: 0.2987, Accuracy: 9226/10000 (92%)\n",
      "\n",
      "Train Epoch: 5 [29984/60000 (100%)]\tLoss: 0.900194\n",
      "Test set: Average loss: 0.2729, Accuracy: 9176/10000 (92%)\n",
      "\n",
      "Train Epoch: 6 [29984/60000 (100%)]\tLoss: 0.818257\n",
      "Test set: Average loss: 0.2397, Accuracy: 9306/10000 (93%)\n",
      "\n",
      "Train Epoch: 7 [29984/60000 (100%)]\tLoss: 0.426755\n",
      "Test set: Average loss: 0.2035, Accuracy: 9409/10000 (94%)\n",
      "\n",
      "Train Epoch: 8 [29984/60000 (100%)]\tLoss: 0.415003\n",
      "Test set: Average loss: 0.1996, Accuracy: 9420/10000 (94%)\n",
      "\n",
      "Train Epoch: 9 [29984/60000 (100%)]\tLoss: 0.521391\n",
      "Test set: Average loss: 0.2045, Accuracy: 9453/10000 (95%)\n",
      "\n",
      "Train Epoch: 10 [29984/60000 (100%)]\tLoss: 0.189803\n",
      "Test set: Average loss: 0.2015, Accuracy: 9410/10000 (94%)\n",
      "\n",
      "Train Epoch: 11 [29984/60000 (100%)]\tLoss: 0.433470\n",
      "Test set: Average loss: 0.1882, Accuracy: 9472/10000 (95%)\n",
      "\n",
      "Train Epoch: 12 [29984/60000 (100%)]\tLoss: 0.629676\n",
      "Test set: Average loss: 0.1898, Accuracy: 9446/10000 (94%)\n",
      "\n",
      "Train Epoch: 13 [29984/60000 (100%)]\tLoss: 0.267501\n",
      "Test set: Average loss: 0.1969, Accuracy: 9450/10000 (94%)\n",
      "\n",
      "Train Epoch: 14 [29984/60000 (100%)]\tLoss: 0.446508\n",
      "Test set: Average loss: 0.1935, Accuracy: 9451/10000 (95%)\n",
      "\n",
      "Train Epoch: 15 [29984/60000 (100%)]\tLoss: 0.356628\n",
      "Test set: Average loss: 0.1917, Accuracy: 9458/10000 (95%)\n",
      "\n",
      "Train Epoch: 16 [29984/60000 (100%)]\tLoss: 0.525534\n",
      "Test set: Average loss: 0.1963, Accuracy: 9423/10000 (94%)\n",
      "\n",
      "Train Epoch: 17 [29984/60000 (100%)]\tLoss: 0.381268\n",
      "Test set: Average loss: 0.1840, Accuracy: 9500/10000 (95%)\n",
      "\n",
      "Train Epoch: 18 [29984/60000 (100%)]\tLoss: 0.761753\n",
      "Test set: Average loss: 0.1815, Accuracy: 9446/10000 (94%)\n",
      "\n",
      "Train Epoch: 19 [29984/60000 (100%)]\tLoss: 0.734803\n",
      "Test set: Average loss: 0.1923, Accuracy: 9490/10000 (95%)\n",
      "\n",
      "Train Epoch: 20 [29984/60000 (100%)]\tLoss: 0.266307\n",
      "Test set: Average loss: 0.1965, Accuracy: 9468/10000 (95%)\n",
      "\n"
     ]
    }
   ],
   "source": [
    "n_epochs=20\n",
    "\n",
    "model = Net().to(device)\n",
    "optimizer = optim.Adadelta(model.parameters(), lr=lr)\n",
    "\n",
    "scheduler = StepLR(optimizer, step_size=1, gamma=gamma)\n",
    "for epoch in range(1, n_epochs + 1):\n",
    "    train(model, device, train_loader, optimizer, epoch)\n",
    "    test(model, device, test_loader)\n",
    "    scheduler.step()"
   ]
  },
  {
   "cell_type": "markdown",
   "metadata": {},
   "source": [
    "# Final thoughts\n",
    "\n",
    "I had a hard time getting comparable accuracy to the baseline with this, but play around with it and see what you can come up with.\n",
    "\n",
    "I ended up getting around 95% accuring with Deepshift-PS."
   ]
  },
  {
   "cell_type": "code",
   "execution_count": null,
   "metadata": {},
   "outputs": [],
   "source": []
  }
 ],
 "metadata": {
  "accelerator": "GPU",
  "colab": {
   "collapsed_sections": [],
   "name": "shiftnet.ipynb",
   "provenance": [],
   "toc_visible": true
  },
  "kernelspec": {
   "display_name": "Python 3",
   "language": "python",
   "name": "python3"
  },
  "language_info": {
   "codemirror_mode": {
    "name": "ipython",
    "version": 3
   },
   "file_extension": ".py",
   "mimetype": "text/x-python",
   "name": "python",
   "nbconvert_exporter": "python",
   "pygments_lexer": "ipython3",
   "version": "3.7.1"
  }
 },
 "nbformat": 4,
 "nbformat_minor": 1
}
